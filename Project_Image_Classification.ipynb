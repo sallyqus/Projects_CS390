{
 "cells": [
  {
   "cell_type": "markdown",
   "metadata": {
    "colab_type": "text",
    "id": "quHwuvnL_N9o"
   },
   "source": [
    "# Project 1: Image Classification"
   ]
  },
  {
   "cell_type": "markdown",
   "metadata": {
    "colab_type": "text",
    "id": "1JWfOd3AVO9J"
   },
   "source": [
    "## Task 0: Getting Started\n",
    "\n",
    "Read the getting started guide titled **\"Python for Deep Learning\"** and get familiar with Python and PyTorch. Read the provided code below and get familiar with the commands and their parameters to understand what the code is trying to do. We recommend to spend a fair amount of time to understand all the different parts of the code. This understanding will be important for this and future projects.\n",
    "\n",
    "The goal of this project is to implement the *“Hello World!”* program of deep learning: designing and training a network that performs image classification. The dataset we will be using is CIFAR10 which is a large set of images that are classified into 10 classes (airplane, bird, cat, etc.)."
   ]
  },
  {
   "cell_type": "markdown",
   "metadata": {
    "colab_type": "text",
    "id": "Wgsyd2YsVO9L"
   },
   "source": [
    "## Task 1:  Data Loading (10 points)\n",
    "Complete the **DataLoader** below which we will use to load images of the cifar10 dataset provided by torchvision. Your task is to normalize it by shifting and scaling it by a factor of 0.5. For the training set, introduce random transformations (e.g. flips) for data augmentation."
   ]
  },
  {
   "cell_type": "code",
   "execution_count": 51,
   "metadata": {
    "colab": {},
    "colab_type": "code",
    "id": "EtxYeHjRVO9S"
   },
   "outputs": [
    {
     "name": "stdout",
     "output_type": "stream",
     "text": [
      "Files already downloaded and verified\n",
      "Files already downloaded and verified\n"
     ]
    }
   ],
   "source": [
    "#### from __future__ import print_function, division\n",
    "\n",
    "import os\n",
    "import time\n",
    "import numpy as np\n",
    "\n",
    "import torch\n",
    "import torch.nn as nn\n",
    "import torch.optim as optim\n",
    "import torch.nn.functional as F\n",
    "from torch.optim import lr_scheduler\n",
    "import torchvision\n",
    "from torchvision import datasets, models, transforms\n",
    "from torch.utils.data.sampler import SubsetRandomSampler\n",
    "\n",
    "from PIL import Image\n",
    "import matplotlib.pyplot as plt\n",
    "plt.ion()   # interactive mode\n",
    "\n",
    "# Data augmentation and normalization for training\n",
    "# Just normalization for testing\n",
    "data_transforms = {\n",
    "    'train': transforms.Compose([\n",
    "    # TODO Task 1:  Training transofrmations\n",
    "    transforms.ToTensor(),\n",
    "     transforms.Normalize((0.5, 0.5, 0.5), (0.5, 0.5, 0.5))    \n",
    "    ]),\n",
    "    'test': transforms.Compose([\n",
    "    # TODO Task 1:  Test transofrmations\n",
    "    transforms.ToTensor(),\n",
    "     transforms.Normalize((0.5, 0.5, 0.5), (0.5, 0.5, 0.5))   \n",
    "    ])\n",
    "}\n",
    "\n",
    "# Load CIFAR10\n",
    "image_datasets = {x: torchvision.datasets.CIFAR10(root='./data', train=(x=='train'), download=True, transform=data_transforms[x]) for x in ['train', 'test']}\n",
    "dataloaders = {x: torch.utils.data.DataLoader(image_datasets[x], batch_size=256, shuffle=(x=='train'), num_workers=32) for x in ['train', 'test']}\n",
    "dataset_sizes = {x: len(image_datasets[x]) for x in ['train', 'test']}\n",
    "class_names = image_datasets['train'].classes\n",
    "\n",
    "# Move to GPU\n",
    "device = torch.device(\"cuda:0\" if torch.cuda.is_available() else \"cpu\")"
   ]
  },
  {
   "cell_type": "markdown",
   "metadata": {
    "colab_type": "text",
    "id": "uS6cR4RhVO9U"
   },
   "source": [
    "### Visualize a few images\n",
    "\n",
    "Let’s visualize a few training images so as to understand the data augmentations. The results should look like:\n",
    "\n",
    "<img src=\"https://i.imgur.com/Sa6l1go.png\" width=\"400\" align=\"left\">"
   ]
  },
  {
   "cell_type": "code",
   "execution_count": 2,
   "metadata": {
    "colab": {},
    "colab_type": "code",
    "id": "xXSA5DDBVO9V"
   },
   "outputs": [
    {
     "data": {
      "image/png": "[encoded data removed]",
      "text/plain": [
       "<Figure size 432x288 with 1 Axes>"
      ]
     },
     "metadata": {
      "needs_background": "light"
     },
     "output_type": "display_data"
    }
   ],
   "source": [
    "# TODO Task 1:  Run this cell and try to understand the output of each step\n",
    "\n",
    "def imshow(inp, title=None):\n",
    "    \"\"\"Imshow for Tensor.\"\"\"\n",
    "    inp = inp.numpy().transpose((1, 2, 0))\n",
    "    mean = np.array([0.5, 0.5, 0.5])\n",
    "    std = np.array([0.5, 0.5, 0.5])\n",
    "    inp = std * inp + mean\n",
    "    inp = np.clip(inp, 0, 1)\n",
    "    plt.imshow(inp)\n",
    "    if title is not None:\n",
    "        plt.title(title)\n",
    "    plt.pause(0.001)  # pause a bit so that plots are updated\n",
    "\n",
    "# Get a batch of training data\n",
    "inputs, classes = next(iter(dataloaders['train']))\n",
    "\n",
    "# Make a grid from batch\n",
    "out = torchvision.utils.make_grid(inputs)\n",
    "\n",
    "imshow(out, title=[class_names[x] for x in classes])"
   ]
  },
  {
   "cell_type": "code",
   "execution_count": 104,
   "metadata": {},
   "outputs": [
    {
     "name": "stdout",
     "output_type": "stream",
     "text": [
      "torch.Size([3, 36, 138])\n"
     ]
    }
   ],
   "source": [
    "print(out.shape)"
   ]
  },
  {
   "cell_type": "markdown",
   "metadata": {
    "colab_type": "text",
    "id": "YmMMSK0TVO9L"
   },
   "source": [
    "## Task 2: Basic Networks (20 points)\n",
    "1. Create a Fully connected Network (FcNet) as follows in the Jupyter Notebook:\n",
    "```\n",
    "FcNet(\n",
    "  (fc1): Linear(in_features=3072, out_features=1024, bias=True)\n",
    "  (fc2): Linear(in_features=1024, out_features=400, bias=True)\n",
    "  (fc3): Linear(in_features=400, out_features=84, bias=True)\n",
    "  (fc4): Linear(in_features=84, out_features=10, bias=True)\n",
    ")\n",
    "```\n",
    "Train the FcNet for **3** epoches and record the training time and accuracy in your final report.\n",
    "\n",
    "2. Create a Convolutional Network (ConvNet) as follows in the Jupyter Notebook:\n",
    "```\n",
    "ConvNet(\n",
    "  (conv1): Conv2d(3, 6, kernel_size=(5, 5), stride=(1, 1))\n",
    "  (pool): MaxPool2d(kernel_size=2, stride=2, padding=0, dilation=1, ceil_mode=False)\n",
    "  (conv2): Conv2d(6, 16, kernel_size=(5, 5), stride=(1, 1))\n",
    "  (fc1): Linear(in_features=400, out_features=120, bias=True)\n",
    "  (fc2): Linear(in_features=120, out_features=84, bias=True)\n",
    "  (fc3): Linear(in_features=84, out_features=10, bias=True)\n",
    ")\n",
    "```\n",
    "Train the ConvNet for **3** epoches and record the training time and accuracy in your final report. \n",
    "\n",
    "*Use the default SGD optimizer ( lr=0.001, momentum=0.9) for training."
   ]
  },
  {
   "cell_type": "markdown",
   "metadata": {},
   "source": [
    "## Task 2 Report \n",
    "<p style=\"color:salmon\">1. FcNet: Acc: 0.5372; Training complete in 5m 38s \n",
    "    \n",
    "<p style=\"color:salmon\">2. ConvNet: Acc: 0.6541; Training complete in 5m 54s</p> \n",
    "\n"
   ]
  },
  {
   "cell_type": "markdown",
   "metadata": {
    "colab_type": "text",
    "id": "1sKXg8fSVO9X"
   },
   "source": [
    "### Model training code (do not modify except for plotting the loss curve)"
   ]
  },
  {
   "cell_type": "code",
   "execution_count": 52,
   "metadata": {
    "colab": {},
    "colab_type": "code",
    "id": "A_Y2cgPEVO9X"
   },
   "outputs": [],
   "source": [
    "def train_model(model, criterion, optimizer, num_epochs=25, save_path='saved_weight.pth'):\n",
    "    since = time.time()\n",
    "    loss_values = []\n",
    "\n",
    "    for epoch in range(num_epochs):\n",
    "        print('Epoch {}/{}'.format(epoch, num_epochs - 1))\n",
    "        print('-' * 10)\n",
    "\n",
    "        # Each epoch has a training and validation phase\n",
    "        for phase in ['train']:\n",
    "            if phase == 'train': model.train()  # Set model to training mode\n",
    "\n",
    "            running_loss = 0.0\n",
    "            running_corrects = 0\n",
    "\n",
    "            # Iterate over data.\n",
    "            for inputs, labels in dataloaders[phase]:\n",
    "                inputs = inputs.to(device)\n",
    "                labels = labels.to(device)\n",
    "\n",
    "                # zero the parameter gradients\n",
    "                optimizer.zero_grad()\n",
    "\n",
    "                # forward\n",
    "                # track history if only in train\n",
    "                with torch.set_grad_enabled(phase == 'train'):\n",
    "                    outputs = model(inputs)\n",
    "                    _, preds = torch.max(outputs, 1)\n",
    "                    loss = criterion(outputs, labels)\n",
    "\n",
    "                    # backward + optimize only if in training phase\n",
    "                    if phase == 'train':\n",
    "                        loss.backward()\n",
    "                        optimizer.step()\n",
    "\n",
    "                # statistics\n",
    "                running_loss += loss.item() * inputs.size(0)\n",
    "                running_corrects += torch.sum(preds == labels.data)\n",
    "\n",
    "            epoch_loss = running_loss / dataset_sizes[phase]\n",
    "            epoch_acc = running_corrects.double() / dataset_sizes[phase]\n",
    "\n",
    "            print('{} Loss: {:.4f} Acc: {:.4f}'.format(phase, epoch_loss, epoch_acc))\n",
    "            loss_values.append(epoch_loss)\n",
    "\n",
    "    print()\n",
    "    ## For plotting the loss curve\n",
    "    plt.figure()\n",
    "    plt.plot(range(len(loss_values)), loss_values)\n",
    "    plt.xlabel('epochs')\n",
    "    plt.ylabel('loss value')\n",
    "    plt.show()\n",
    "\n",
    "\n",
    "    time_elapsed = time.time() - since\n",
    "    print('Training complete in {:.0f}m {:.0f}s'.format(time_elapsed // 60, time_elapsed % 60))\n",
    "\n",
    "    torch.save(model.state_dict(), save_path)\n",
    "    return model"
   ]
  },
  {
   "cell_type": "markdown",
   "metadata": {
    "colab_type": "text",
    "id": "tX6I8cqXFDMX"
   },
   "source": [
    "### 1) FC Network"
   ]
  },
  {
   "cell_type": "code",
   "execution_count": 11,
   "metadata": {
    "colab": {},
    "colab_type": "code",
    "id": "rpompN92VO9d"
   },
   "outputs": [
    {
     "name": "stdout",
     "output_type": "stream",
     "text": [
      "FcNet(\n",
      "  (layers): Sequential(\n",
      "    (0): Linear(in_features=3072, out_features=1024, bias=True)\n",
      "    (1): ReLU()\n",
      "    (2): Linear(in_features=1024, out_features=400, bias=True)\n",
      "    (3): ReLU()\n",
      "    (4): Linear(in_features=400, out_features=84, bias=True)\n",
      "    (5): ReLU()\n",
      "    (6): Linear(in_features=84, out_features=10, bias=True)\n",
      "  )\n",
      ")\n"
     ]
    }
   ],
   "source": [
    "# 1) Define a Fully Connected Neural Network\n",
    "class FcNet(nn.Module):\n",
    "    def __init__(self):\n",
    "        super(FcNet, self).__init__()\n",
    "        # TODO Task 2:  Define the layers \n",
    "        self.layers = nn.Sequential(\n",
    "            nn.Linear(in_features=3072, out_features=1024, bias=True), nn.ReLU(), \n",
    "            nn.Linear(in_features=1024, out_features=400, bias=True), nn.ReLU(), \n",
    "            nn.Linear(in_features=400, out_features=84, bias=True), nn.ReLU(), \n",
    "            nn.Linear(in_features=84, out_features=10, bias=True),\n",
    "                )\n",
    "\n",
    "    def forward(self, x):\n",
    "        # TODO Task 2:  Define the forward pass\n",
    "        b,channel,weight,height = x.shape\n",
    "        x = self.layers(x.view(b,-1))\n",
    "        return x\n",
    "\n",
    "model_ft = FcNet()\n",
    "model_ft = model_ft.to(device)\n",
    "print(model_ft)"
   ]
  },
  {
   "cell_type": "code",
   "execution_count": 12,
   "metadata": {},
   "outputs": [
    {
     "name": "stdout",
     "output_type": "stream",
     "text": [
      "Epoch 0/2\n",
      "----------\n",
      "train Loss: 1.6925 Acc: 0.3943\n",
      "Epoch 1/2\n",
      "----------\n",
      "train Loss: 1.4276 Acc: 0.4924\n",
      "Epoch 2/2\n",
      "----------\n",
      "train Loss: 1.3046 Acc: 0.5372\n",
      "\n"
     ]
    },
    {
     "data": {
      "image/png": "[encoded data removed]",
      "text/plain": [
       "<Figure size 432x288 with 1 Axes>"
      ]
     },
     "metadata": {
      "needs_background": "light"
     },
     "output_type": "display_data"
    },
    {
     "name": "stdout",
     "output_type": "stream",
     "text": [
      "Training complete in 5m 38s\n"
     ]
    }
   ],
   "source": [
    "# Training for 3 Epochs and recording the training time and accuracy\n",
    "criterion = nn.CrossEntropyLoss()\n",
    "optimizer_ft = optim.SGD(model_ft.parameters(), lr=0.001, momentum=0.9)\n",
    "model_ft = train_model(model_ft, criterion, optimizer_ft, num_epochs=3)"
   ]
  },
  {
   "cell_type": "markdown",
   "metadata": {
    "colab_type": "text",
    "id": "kFQdcJaKFF8y"
   },
   "source": [
    "### 2) CNN"
   ]
  },
  {
   "cell_type": "code",
   "execution_count": 13,
   "metadata": {
    "colab": {},
    "colab_type": "code",
    "id": "ma36XwVfVO9h"
   },
   "outputs": [
    {
     "name": "stdout",
     "output_type": "stream",
     "text": [
      "ConvNet(\n",
      "  (convs): Sequential(\n",
      "    (0): Conv2d(3, 6, kernel_size=(5, 5), stride=(1, 1))\n",
      "    (1): ReLU()\n",
      "    (2): MaxPool2d(kernel_size=2, stride=2, padding=0, dilation=1, ceil_mode=False)\n",
      "    (3): ReLU()\n",
      "    (4): Conv2d(6, 16, kernel_size=(5, 5), stride=(1, 1))\n",
      "    (5): MaxPool2d(kernel_size=2, stride=2, padding=0, dilation=1, ceil_mode=False)\n",
      "    (6): ReLU()\n",
      "  )\n",
      "  (fcs): Sequential(\n",
      "    (0): Linear(in_features=400, out_features=120, bias=True)\n",
      "    (1): ReLU()\n",
      "    (2): Linear(in_features=120, out_features=84, bias=True)\n",
      "    (3): ReLU()\n",
      "    (4): Linear(in_features=84, out_features=10, bias=True)\n",
      "    (5): ReLU()\n",
      "  )\n",
      ")\n"
     ]
    }
   ],
   "source": [
    "# 2) Define a Convolutional Neural Network \n",
    "class ConvNet(nn.Module):\n",
    "    def __init__(self):\n",
    "        super(ConvNet, self).__init__()\n",
    "        # TODO Task 2:  Define the CNN layers \n",
    "        self.convs = nn.Sequential(\n",
    "            nn.Conv2d(3, 6, kernel_size=(5, 5), stride=(1, 1)), nn.ReLU(), \n",
    "            nn.MaxPool2d(kernel_size=2, stride=2, padding=0, dilation=1, ceil_mode=False), nn.ReLU(), \n",
    "            nn.Conv2d(6, 16, kernel_size=(5, 5), stride=(1, 1)),\n",
    "            nn.MaxPool2d(kernel_size=2, stride=2, padding=0, dilation=1, ceil_mode=False), nn.ReLU(), \n",
    "            \n",
    "               )\n",
    "        self.fcs = nn.Sequential(\n",
    "            nn.Linear(in_features=400, out_features=120, bias=True), nn.ReLU(), \n",
    "            nn.Linear(in_features=120, out_features=84, bias=True), nn.ReLU(), \n",
    "            nn.Linear(in_features=84, out_features=10, bias=True), nn.ReLU(), \n",
    "                )\n",
    "\n",
    "    def forward(self, x):\n",
    "        # TODO Task 2:  Define the forward pass\n",
    "        x = self.convs(x)\n",
    "        b,c,w,h = x.shape\n",
    "        x = self.fcs(x.view(b,-1))        \n",
    "        return x\n",
    "\n",
    "model_ft = ConvNet()\n",
    "model_ft = model_ft.to(device)\n",
    "print(model_ft)"
   ]
  },
  {
   "cell_type": "code",
   "execution_count": 23,
   "metadata": {},
   "outputs": [
    {
     "name": "stdout",
     "output_type": "stream",
     "text": [
      "Epoch 0/2\n",
      "----------\n",
      "train Loss: 1.1018 Acc: 0.6093\n",
      "Epoch 1/2\n",
      "----------\n",
      "train Loss: 1.0316 Acc: 0.6371\n",
      "Epoch 2/2\n",
      "----------\n",
      "train Loss: 0.9774 Acc: 0.6541\n",
      "\n"
     ]
    },
    {
     "data": {
      "image/png": "[encoded data removed]",
      "text/plain": [
       "<Figure size 432x288 with 1 Axes>"
      ]
     },
     "metadata": {
      "needs_background": "light"
     },
     "output_type": "display_data"
    },
    {
     "name": "stdout",
     "output_type": "stream",
     "text": [
      "Training complete in 5m 54s\n"
     ]
    }
   ],
   "source": [
    "# Train the ConvNet for 3 epoches and record the training time and accuracy\n",
    "criterion = nn.CrossEntropyLoss()\n",
    "optimizer_ft = optim.SGD(model_ft.parameters(), lr=0.001, momentum=0.9)\n",
    "model_ft = train_model(model_ft, criterion, optimizer_ft, num_epochs=3)"
   ]
  },
  {
   "cell_type": "markdown",
   "metadata": {
    "colab_type": "text",
    "id": "NMAIB0f8VO9M"
   },
   "source": [
    "## Task 3: Design Your Network I (20 points)\n",
    "Define your own Convolutional Network (MyNet) starting from the configuration in Task 2.2. Add following modifications and train the Network for **25** epoches. Keep the best settings for each step (for each step, record the training accuracy of the last epoch and test accuracy in your report):\n",
    "\n",
    "1. Increase the number of layers: Modify the number of convolutional layers in the network.\n",
    "2. Increase the number of filters: Modify the number of filters in each convolutional layer of the network. \n",
    "3. Modify the filter sizes in each convolutional layer. Experiment with different filter sizes (3x3, 5x5 and 7x7)."
   ]
  },
  {
   "cell_type": "markdown",
   "metadata": {},
   "source": [
    "## Task 3 Report\n",
    "<p style=\"color:salmon\">MyNet: Training Accuracy: 0.9905; Test Accuracy 0.7933</p> \n",
    "From the difference of the training accuracy and the test accuracy, there is overfitting in my model. So I reduced the number of conv layers from 5 to 4 in task 4."
   ]
  },
  {
   "cell_type": "code",
   "execution_count": 46,
   "metadata": {},
   "outputs": [],
   "source": [
    "# Design my own network here with above-mentioned modifications \n",
    "class MyNet(nn.Module):\n",
    "    def __init__(self):\n",
    "        super(MyNet, self).__init__()\n",
    "        # 5 conv layers and 3 linear layers -- AlexNet\n",
    "        self.convs = nn.Sequential(\n",
    "            nn.Conv2d(3, 64, kernel_size=7, stride=1, padding=2), nn.ReLU(),\n",
    "            nn.MaxPool2d(kernel_size=3, stride=2),\n",
    "            nn.Conv2d(64, 192, kernel_size=5, padding=2), nn.ReLU(),\n",
    "            #nn.MaxPool2d(kernel_size=3, stride=2),\n",
    "            nn.Conv2d(192, 384, kernel_size=3, padding=1), nn.ReLU(),\n",
    "            nn.Conv2d(384, 256, kernel_size=3, padding=1), nn.ReLU(),\n",
    "            nn.Conv2d(256, 256, kernel_size=3, padding=1), nn.ReLU(),\n",
    "            nn.MaxPool2d(kernel_size=3, stride=2),\n",
    "        )\n",
    "        self.fcs = nn.Sequential(\n",
    "            nn.Linear(256 * 6 * 6, 4096), nn.ReLU(),\n",
    "            nn.Linear(4096, 4096), nn.ReLU(),\n",
    "            nn.Linear(4096, 10)\n",
    "        )\n",
    "            \n",
    "    def forward(self, x):\n",
    "        x = self.convs(x)\n",
    "        # print(x.shape)\n",
    "        b,c,w,h=x.shape\n",
    "        x = self.fcs(x.view(b,-1))\n",
    "        return x\n",
    "    \n",
    "model_mynet_ft = MyNet()\n",
    "model_mynet_ft = model_mynet_ft.to(device)\n"
   ]
  },
  {
   "cell_type": "code",
   "execution_count": 47,
   "metadata": {},
   "outputs": [
    {
     "name": "stdout",
     "output_type": "stream",
     "text": [
      "Epoch 0/24\n",
      "----------\n",
      "train Loss: 1.7312 Acc: 0.3514\n",
      "Epoch 1/24\n",
      "----------\n",
      "train Loss: 1.1993 Acc: 0.5710\n",
      "Epoch 2/24\n",
      "----------\n",
      "train Loss: 0.9062 Acc: 0.6799\n",
      "Epoch 3/24\n",
      "----------\n",
      "train Loss: 0.7241 Acc: 0.7463\n",
      "Epoch 4/24\n",
      "----------\n",
      "train Loss: 0.5817 Acc: 0.7952\n",
      "Epoch 5/24\n",
      "----------\n",
      "train Loss: 0.4563 Acc: 0.8388\n",
      "Epoch 6/24\n",
      "----------\n",
      "train Loss: 0.3387 Acc: 0.8825\n",
      "Epoch 7/24\n",
      "----------\n",
      "train Loss: 0.2503 Acc: 0.9144\n",
      "Epoch 8/24\n",
      "----------\n",
      "train Loss: 0.1819 Acc: 0.9369\n",
      "Epoch 9/24\n",
      "----------\n",
      "train Loss: 0.1397 Acc: 0.9521\n",
      "Epoch 10/24\n",
      "----------\n",
      "train Loss: 0.1157 Acc: 0.9612\n",
      "Epoch 11/24\n",
      "----------\n",
      "train Loss: 0.0950 Acc: 0.9694\n",
      "Epoch 12/24\n",
      "----------\n",
      "train Loss: 0.0744 Acc: 0.9754\n",
      "Epoch 13/24\n",
      "----------\n",
      "train Loss: 0.0668 Acc: 0.9790\n",
      "Epoch 14/24\n",
      "----------\n",
      "train Loss: 0.0499 Acc: 0.9840\n",
      "Epoch 15/24\n",
      "----------\n",
      "train Loss: 0.0513 Acc: 0.9836\n",
      "Epoch 16/24\n",
      "----------\n",
      "train Loss: 0.0524 Acc: 0.9834\n",
      "Epoch 17/24\n",
      "----------\n",
      "train Loss: 0.0400 Acc: 0.9874\n",
      "Epoch 18/24\n",
      "----------\n",
      "train Loss: 0.0324 Acc: 0.9903\n",
      "Epoch 19/24\n",
      "----------\n",
      "train Loss: 0.0317 Acc: 0.9899\n",
      "Epoch 20/24\n",
      "----------\n",
      "train Loss: 0.0246 Acc: 0.9924\n",
      "Epoch 21/24\n",
      "----------\n",
      "train Loss: 0.0353 Acc: 0.9890\n",
      "Epoch 22/24\n",
      "----------\n",
      "train Loss: 0.0213 Acc: 0.9934\n",
      "Epoch 23/24\n",
      "----------\n",
      "train Loss: 0.0274 Acc: 0.9919\n",
      "Epoch 24/24\n",
      "----------\n",
      "train Loss: 0.0305 Acc: 0.9905\n",
      "\n"
     ]
    },
    {
     "data": {
      "image/png": "[encoded data removed]",
      "text/plain": [
       "<Figure size 432x288 with 1 Axes>"
      ]
     },
     "metadata": {
      "needs_background": "light"
     },
     "output_type": "display_data"
    },
    {
     "name": "stdout",
     "output_type": "stream",
     "text": [
      "Training complete in 228m 3s\n"
     ]
    }
   ],
   "source": [
    "# Train the Network for 10 epoches\n",
    "criterion = nn.CrossEntropyLoss()\n",
    "optimizer_ft = optim.SGD(model_mynet_ft.parameters(), lr=0.001, momentum=0.9)\n",
    "model_mynet_ft = train_model(model_mynet_ft, criterion, optimizer_ft, num_epochs=10)"
   ]
  },
  {
   "cell_type": "code",
   "execution_count": 126,
   "metadata": {},
   "outputs": [
    {
     "name": "stdout",
     "output_type": "stream",
     "text": [
      "test Acc: 0.7933\n",
      "Testing complete in 0m 2s\n"
     ]
    }
   ],
   "source": [
    "test_model(model_mynet_ft)"
   ]
  },
  {
   "cell_type": "markdown",
   "metadata": {
    "colab_type": "text",
    "id": "fkrcMarLVO9N"
   },
   "source": [
    "## Task 4: Design Your Network II (20 points)\n",
    "Keeping the best settings of Task 3, use **Dropout** in fully connected layers and Batch Normalization (choose a suitable batch size) in convolutional layers. Record the training accuracy of the last epoch and test accuracy in your report."
   ]
  },
  {
   "cell_type": "markdown",
   "metadata": {},
   "source": [
    "## Task 4 Report\n",
    "<p style=\"color:salmon\">MyNet_1: Training Accuracy: 0.9682; Test Accuracy 0.7933</p> \n"
   ]
  },
  {
   "cell_type": "markdown",
   "metadata": {
    "colab_type": "text",
    "id": "biQSr45WKS86"
   },
   "source": [
    "### Design Your Network"
   ]
  },
  {
   "cell_type": "code",
   "execution_count": 80,
   "metadata": {
    "colab": {},
    "colab_type": "code",
    "id": "PpRAJHrtVO9o"
   },
   "outputs": [],
   "source": [
    "# Define a Convolutional Neural Network\n",
    "class MyNet_1(nn.Module):\n",
    "    def __init__(self):\n",
    "        super(MyNet_1, self).__init__()\n",
    "        # batchnormalization on convs of AlexNet\n",
    "        # dropout on fcs of AlexNet\n",
    "        self.convs = nn.Sequential(\n",
    "            nn.Conv2d(3, 64, kernel_size=7, stride=1, padding=2), nn.BatchNorm2d(64), nn.ReLU(),\n",
    "            nn.MaxPool2d(kernel_size=3, stride=2),\n",
    "            nn.Conv2d(64, 192, kernel_size=5, padding=2), nn.BatchNorm2d(192), nn.ReLU(),\n",
    "            nn.MaxPool2d(kernel_size=3, stride=2),\n",
    "            nn.Conv2d(192, 384, kernel_size=3, padding=1), nn.BatchNorm2d(384), nn.ReLU(),\n",
    "            nn.Conv2d(384, 256, kernel_size=3, padding=1), nn.BatchNorm2d(256), nn.ReLU(),\n",
    "            # nn.Conv2d(256, 256, kernel_size=3, padding=1), nn.BatchNorm2d(256), nn.ReLU(),\n",
    "            nn.MaxPool2d(kernel_size=3, stride=2),\n",
    "        )\n",
    "        self.fcs = nn.Sequential(\n",
    "            nn.Dropout(), nn.Linear(256 * 2 * 2, 1024), nn.ReLU(),\n",
    "            nn.Dropout(), nn.Linear(1024, 64), nn.ReLU(),\n",
    "            nn.Linear(64, 10)\n",
    "        )\n",
    "            \n",
    "    def forward(self, x):\n",
    "        x = self.convs(x)\n",
    "        b = x.shape[0]\n",
    "        x = self.fcs(x.view(b,-1))\n",
    "        return x\n"
   ]
  },
  {
   "cell_type": "code",
   "execution_count": 87,
   "metadata": {
    "colab": {},
    "colab_type": "code",
    "id": "77S-thkZVO9q"
   },
   "outputs": [
    {
     "name": "stdout",
     "output_type": "stream",
     "text": [
      "Epoch 0/24\n",
      "----------\n",
      "train Loss: 1.6338 Acc: 0.3929\n",
      "Epoch 1/24\n",
      "----------\n",
      "train Loss: 1.1325 Acc: 0.5943\n",
      "Epoch 2/24\n",
      "----------\n",
      "train Loss: 0.9416 Acc: 0.6649\n",
      "Epoch 3/24\n",
      "----------\n",
      "train Loss: 0.8222 Acc: 0.7128\n",
      "Epoch 4/24\n",
      "----------\n",
      "train Loss: 0.7321 Acc: 0.7431\n",
      "Epoch 5/24\n",
      "----------\n",
      "train Loss: 0.6484 Acc: 0.7738\n",
      "Epoch 6/24\n",
      "----------\n",
      "train Loss: 0.5902 Acc: 0.7933\n",
      "Epoch 7/24\n",
      "----------\n",
      "train Loss: 0.5305 Acc: 0.8159\n",
      "Epoch 8/24\n",
      "----------\n",
      "train Loss: 0.4800 Acc: 0.8340\n",
      "Epoch 9/24\n",
      "----------\n",
      "train Loss: 0.4363 Acc: 0.8481\n",
      "Epoch 10/24\n",
      "----------\n",
      "train Loss: 0.3969 Acc: 0.8627\n",
      "Epoch 11/24\n",
      "----------\n",
      "train Loss: 0.3514 Acc: 0.8780\n",
      "Epoch 12/24\n",
      "----------\n",
      "train Loss: 0.3215 Acc: 0.8885\n",
      "Epoch 13/24\n",
      "----------\n",
      "train Loss: 0.2857 Acc: 0.8996\n",
      "Epoch 14/24\n",
      "----------\n",
      "train Loss: 0.2577 Acc: 0.9104\n",
      "Epoch 15/24\n",
      "----------\n",
      "train Loss: 0.2288 Acc: 0.9201\n",
      "Epoch 16/24\n",
      "----------\n",
      "train Loss: 0.2061 Acc: 0.9286\n",
      "Epoch 17/24\n",
      "----------\n",
      "train Loss: 0.1840 Acc: 0.9367\n",
      "Epoch 18/24\n",
      "----------\n",
      "train Loss: 0.1602 Acc: 0.9435\n",
      "Epoch 19/24\n",
      "----------\n",
      "train Loss: 0.1384 Acc: 0.9519\n",
      "Epoch 20/24\n",
      "----------\n",
      "train Loss: 0.1435 Acc: 0.9504\n",
      "Epoch 21/24\n",
      "----------\n",
      "train Loss: 0.1216 Acc: 0.9585\n",
      "Epoch 22/24\n",
      "----------\n",
      "train Loss: 0.1092 Acc: 0.9617\n",
      "Epoch 23/24\n",
      "----------\n",
      "train Loss: 0.1036 Acc: 0.9639\n",
      "Epoch 24/24\n",
      "----------\n",
      "train Loss: 0.0920 Acc: 0.9682\n",
      "\n"
     ]
    },
    {
     "data": {
      "image/png": "[encoded data removed]",
      "text/plain": [
       "<Figure size 432x288 with 1 Axes>"
      ]
     },
     "metadata": {
      "needs_background": "light"
     },
     "output_type": "display_data"
    },
    {
     "name": "stdout",
     "output_type": "stream",
     "text": [
      "Training complete in 19m 16s\n"
     ]
    }
   ],
   "source": [
    "model_mynet_1_ft = MyNet_1()\n",
    "model_mynet_1_ft = model_mynet_1_ft.to(device)\n",
    "criterion = nn.CrossEntropyLoss()\n",
    "\n",
    "# TODO Task 5: Optimizer\n",
    "optimizer_ft = optim.SGD(model_mynet_1_ft.parameters(), lr=0.01, momentum=0.9)\n",
    "## Train and evaluate\n",
    "model_mynet_1_ft = train_model(model_mynet_1_ft, criterion, optimizer_ft, num_epochs=25)"
   ]
  },
  {
   "cell_type": "code",
   "execution_count": 125,
   "metadata": {},
   "outputs": [
    {
     "name": "stdout",
     "output_type": "stream",
     "text": [
      "test Acc: 0.7933\n",
      "Testing complete in 0m 2s\n"
     ]
    }
   ],
   "source": [
    "test_model(model_mynet_1_ft)"
   ]
  },
  {
   "cell_type": "markdown",
   "metadata": {
    "colab_type": "text",
    "id": "akFMVbNaVO9N"
   },
   "source": [
    "## Task 5: The Optimizer (20 points)\n",
    "Keeping the best settings of Task 4, use 3 different optimizers (SGD, ADAM and RMSProp) with 3 different learning rates (0.001, 0.01, 0.1) . Plot the loss curves (Training loss vs Training step) for each case."
   ]
  },
  {
   "cell_type": "markdown",
   "metadata": {},
   "source": [
    "## Task 5 Report\n",
    "<p style=\"color:salmon\">Please kindly find the 9 loss curves in the following part. From the results, we can see that using SGD our model can converge with different learning rates(0.001, 0.01, 0.1) while ADAM and RMSProp can only perform well with certain learning rates.</p> \n"
   ]
  },
  {
   "cell_type": "markdown",
   "metadata": {
    "colab_type": "text",
    "id": "bl7mS2igVO9v"
   },
   "source": [
    "### Testing the Accuracy"
   ]
  },
  {
   "cell_type": "code",
   "execution_count": 75,
   "metadata": {
    "colab": {},
    "colab_type": "code",
    "id": "GtE6iv9rVO9w"
   },
   "outputs": [],
   "source": [
    "def test_model(model, load_path='saved_weight.pth'):    \n",
    "    # load the model weights\n",
    "    model.load_state_dict(torch.load(load_path))\n",
    "    \n",
    "    since = time.time()\n",
    "\n",
    "    for phase in ['test']:\n",
    "        if phase == 'test':\n",
    "            model.eval()   # Set model to evaluate mode\n",
    "\n",
    "        running_loss = 0.0\n",
    "        running_corrects = 0\n",
    "\n",
    "        # Iterate over data.\n",
    "        for inputs, labels in dataloaders[phase]:\n",
    "            inputs = inputs.to(device)\n",
    "            labels = labels.to(device)\n",
    "\n",
    "            with torch.no_grad():\n",
    "                outputs = model(inputs)\n",
    "                _, preds = torch.max(outputs, 1)\n",
    "\n",
    "            # statistics\n",
    "            running_corrects += torch.sum(preds == labels.data)\n",
    "        epoch_acc = running_corrects.double() / dataset_sizes[phase]\n",
    "\n",
    "        print('{} Acc: {:.4f}'.format(phase, epoch_acc))\n",
    "\n",
    "    time_elapsed = time.time() - since\n",
    "    print('Testing complete in {:.0f}m {:.0f}s'.format(time_elapsed // 60, time_elapsed % 60))\n",
    "\n",
    "    return "
   ]
  },
  {
   "cell_type": "code",
   "execution_count": null,
   "metadata": {
    "colab": {},
    "colab_type": "code",
    "id": "8ZI4TK9jVO9y"
   },
   "outputs": [],
   "source": [
    "test_model(model_ft)"
   ]
  },
  {
   "cell_type": "code",
   "execution_count": 79,
   "metadata": {},
   "outputs": [
    {
     "name": "stdout",
     "output_type": "stream",
     "text": [
      "learning rate is 0.001\n",
      "Epoch 0/9\n",
      "----------\n",
      "train Loss: 2.1711 Acc: 0.2017\n",
      "Epoch 1/9\n",
      "----------\n",
      "train Loss: 1.7300 Acc: 0.3489\n",
      "Epoch 2/9\n",
      "----------\n",
      "train Loss: 1.4795 Acc: 0.4463\n",
      "Epoch 3/9\n",
      "----------\n",
      "train Loss: 1.3097 Acc: 0.5194\n",
      "Epoch 4/9\n",
      "----------\n",
      "train Loss: 1.1808 Acc: 0.5724\n",
      "Epoch 5/9\n",
      "----------\n",
      "train Loss: 1.0791 Acc: 0.6155\n",
      "Epoch 6/9\n",
      "----------\n",
      "train Loss: 1.0039 Acc: 0.6418\n",
      "Epoch 7/9\n",
      "----------\n",
      "train Loss: 0.9317 Acc: 0.6688\n",
      "Epoch 8/9\n",
      "----------\n",
      "train Loss: 0.8744 Acc: 0.6909\n",
      "Epoch 9/9\n",
      "----------\n",
      "train Loss: 0.8248 Acc: 0.7074\n",
      "\n"
     ]
    },
    {
     "data": {
      "image/png": "[encoded data removed]",
      "text/plain": [
       "<Figure size 432x288 with 1 Axes>"
      ]
     },
     "metadata": {
      "needs_background": "light"
     },
     "output_type": "display_data"
    },
    {
     "name": "stdout",
     "output_type": "stream",
     "text": [
      "Training complete in 8m 13s\n",
      "test Acc: 0.6485\n",
      "Testing complete in 0m 4s\n",
      "learning rate is 0.01\n",
      "Epoch 0/9\n",
      "----------\n",
      "train Loss: 1.6310 Acc: 0.3898\n",
      "Epoch 1/9\n",
      "----------\n",
      "train Loss: 1.1323 Acc: 0.5921\n",
      "Epoch 2/9\n",
      "----------\n",
      "train Loss: 0.9315 Acc: 0.6690\n",
      "Epoch 3/9\n",
      "----------\n",
      "train Loss: 0.8011 Acc: 0.7186\n",
      "Epoch 4/9\n",
      "----------\n",
      "train Loss: 0.7081 Acc: 0.7547\n",
      "Epoch 5/9\n",
      "----------\n",
      "train Loss: 0.6395 Acc: 0.7777\n",
      "Epoch 6/9\n",
      "----------\n",
      "train Loss: 0.5742 Acc: 0.8008\n",
      "Epoch 7/9\n",
      "----------\n",
      "train Loss: 0.5189 Acc: 0.8195\n",
      "Epoch 8/9\n",
      "----------\n",
      "train Loss: 0.4645 Acc: 0.8374\n",
      "Epoch 9/9\n",
      "----------\n",
      "train Loss: 0.4304 Acc: 0.8510\n",
      "\n"
     ]
    },
    {
     "data": {
      "image/png": "[encoded data removed]",
      "text/plain": [
       "<Figure size 432x288 with 1 Axes>"
      ]
     },
     "metadata": {
      "needs_background": "light"
     },
     "output_type": "display_data"
    },
    {
     "name": "stdout",
     "output_type": "stream",
     "text": [
      "Training complete in 8m 55s\n",
      "test Acc: 0.7679\n",
      "Testing complete in 0m 5s\n",
      "learning rate is 0.1\n",
      "Epoch 0/9\n",
      "----------\n",
      "train Loss: 1.5847 Acc: 0.4107\n",
      "Epoch 1/9\n",
      "----------\n",
      "train Loss: 1.1603 Acc: 0.5879\n",
      "Epoch 2/9\n",
      "----------\n",
      "train Loss: 0.9348 Acc: 0.6747\n",
      "Epoch 3/9\n",
      "----------\n",
      "train Loss: 0.8060 Acc: 0.7234\n",
      "Epoch 4/9\n",
      "----------\n",
      "train Loss: 0.6976 Acc: 0.7612\n",
      "Epoch 5/9\n",
      "----------\n",
      "train Loss: 0.6161 Acc: 0.7891\n",
      "Epoch 6/9\n",
      "----------\n",
      "train Loss: 0.5545 Acc: 0.8094\n",
      "Epoch 7/9\n",
      "----------\n",
      "train Loss: 0.4945 Acc: 0.8297\n",
      "Epoch 8/9\n",
      "----------\n",
      "train Loss: 0.4386 Acc: 0.8495\n",
      "Epoch 9/9\n",
      "----------\n",
      "train Loss: 0.4047 Acc: 0.8617\n",
      "\n"
     ]
    },
    {
     "data": {
      "image/png": "[encoded data removed]",
      "text/plain": [
       "<Figure size 432x288 with 1 Axes>"
      ]
     },
     "metadata": {
      "needs_background": "light"
     },
     "output_type": "display_data"
    },
    {
     "name": "stdout",
     "output_type": "stream",
     "text": [
      "Training complete in 8m 29s\n",
      "test Acc: 0.7936\n",
      "Testing complete in 0m 5s\n"
     ]
    }
   ],
   "source": [
    "# Optimizer 1 : SGD\n",
    "for lr in [0.001, 0.01, 0.1]:\n",
    "    model_sgd_ft = MyNet_1()\n",
    "    model_sgd_ft = model_sgd_ft.to(device)\n",
    "    criterion = nn.CrossEntropyLoss()\n",
    "    optimizer_ft = optim.SGD(model_sgd_ft.parameters(), lr=lr, momentum=0.9)\n",
    "    print(\"learning rate is {}\".format(lr))\n",
    "    model_sgd_ft = train_model(model_sgd_ft, criterion, optimizer_ft, num_epochs=10)\n",
    "    test_model(model_sgd_ft)\n",
    "    print(\"-------------------------------\")"
   ]
  },
  {
   "cell_type": "code",
   "execution_count": 83,
   "metadata": {},
   "outputs": [
    {
     "name": "stdout",
     "output_type": "stream",
     "text": [
      "learning rate is 0.001\n",
      "Epoch 0/9\n",
      "----------\n",
      "train Loss: 1.4077 Acc: 0.4840\n",
      "Epoch 1/9\n",
      "----------\n",
      "train Loss: 0.9955 Acc: 0.6490\n",
      "Epoch 2/9\n",
      "----------\n",
      "train Loss: 0.8099 Acc: 0.7186\n",
      "Epoch 3/9\n",
      "----------\n",
      "train Loss: 0.6843 Acc: 0.7641\n",
      "Epoch 4/9\n",
      "----------\n",
      "train Loss: 0.5993 Acc: 0.7949\n",
      "Epoch 5/9\n",
      "----------\n",
      "train Loss: 0.5253 Acc: 0.8181\n",
      "Epoch 6/9\n",
      "----------\n",
      "train Loss: 0.4625 Acc: 0.8405\n",
      "Epoch 7/9\n",
      "----------\n",
      "train Loss: 0.4017 Acc: 0.8607\n",
      "Epoch 8/9\n",
      "----------\n",
      "train Loss: 0.3544 Acc: 0.8767\n",
      "Epoch 9/9\n",
      "----------\n",
      "train Loss: 0.3064 Acc: 0.8933\n",
      "\n"
     ]
    },
    {
     "data": {
      "image/png": "[encoded data removed]",
      "text/plain": [
       "<Figure size 432x288 with 1 Axes>"
      ]
     },
     "metadata": {
      "needs_background": "light"
     },
     "output_type": "display_data"
    },
    {
     "name": "stdout",
     "output_type": "stream",
     "text": [
      "Training complete in 8m 21s\n",
      "test Acc: 0.7621\n",
      "Testing complete in 0m 6s\n",
      "-------------------------------\n",
      "learning rate is 0.01\n",
      "Epoch 0/9\n",
      "----------\n",
      "train Loss: 1.9821 Acc: 0.2044\n",
      "Epoch 1/9\n",
      "----------\n",
      "train Loss: 1.6828 Acc: 0.3441\n",
      "Epoch 2/9\n",
      "----------\n",
      "train Loss: 1.3856 Acc: 0.4848\n",
      "Epoch 3/9\n",
      "----------\n",
      "train Loss: 1.1691 Acc: 0.5885\n",
      "Epoch 4/9\n",
      "----------\n",
      "train Loss: 1.0225 Acc: 0.6495\n",
      "Epoch 5/9\n",
      "----------\n",
      "train Loss: 0.9018 Acc: 0.6943\n",
      "Epoch 6/9\n",
      "----------\n",
      "train Loss: 0.8211 Acc: 0.7255\n",
      "Epoch 7/9\n",
      "----------\n",
      "train Loss: 0.7475 Acc: 0.7513\n",
      "Epoch 8/9\n",
      "----------\n",
      "train Loss: 0.6853 Acc: 0.7734\n",
      "Epoch 9/9\n",
      "----------\n",
      "train Loss: 0.6324 Acc: 0.7913\n",
      "\n"
     ]
    },
    {
     "data": {
      "image/png": "[encoded data removed]",
      "text/plain": [
       "<Figure size 432x288 with 1 Axes>"
      ]
     },
     "metadata": {
      "needs_background": "light"
     },
     "output_type": "display_data"
    },
    {
     "name": "stdout",
     "output_type": "stream",
     "text": [
      "Training complete in 8m 18s\n",
      "test Acc: 0.7596\n",
      "Testing complete in 0m 3s\n",
      "-------------------------------\n",
      "learning rate is 0.1\n",
      "Epoch 0/9\n",
      "----------\n",
      "train Loss: 8.9406 Acc: 0.0981\n",
      "Epoch 1/9\n",
      "----------\n",
      "train Loss: 2.3057 Acc: 0.1009\n",
      "Epoch 2/9\n",
      "----------\n",
      "train Loss: 2.3060 Acc: 0.0997\n",
      "Epoch 3/9\n",
      "----------\n",
      "train Loss: 2.3064 Acc: 0.0988\n",
      "Epoch 4/9\n",
      "----------\n",
      "train Loss: 2.3065 Acc: 0.0991\n",
      "Epoch 5/9\n",
      "----------\n",
      "train Loss: 2.3060 Acc: 0.0982\n",
      "Epoch 6/9\n",
      "----------\n",
      "train Loss: 2.3079 Acc: 0.1020\n",
      "Epoch 7/9\n",
      "----------\n",
      "train Loss: 2.3068 Acc: 0.1003\n",
      "Epoch 8/9\n",
      "----------\n",
      "train Loss: 2.3066 Acc: 0.0981\n",
      "Epoch 9/9\n",
      "----------\n",
      "train Loss: 2.3083 Acc: 0.0999\n",
      "\n"
     ]
    },
    {
     "data": {
      "image/png": "[encoded data removed]",
      "text/plain": [
       "<Figure size 432x288 with 1 Axes>"
      ]
     },
     "metadata": {
      "needs_background": "light"
     },
     "output_type": "display_data"
    },
    {
     "name": "stdout",
     "output_type": "stream",
     "text": [
      "Training complete in 7m 26s\n",
      "test Acc: 0.1000\n",
      "Testing complete in 0m 5s\n",
      "-------------------------------\n"
     ]
    }
   ],
   "source": [
    "# Optimizer 2 : ADAM\n",
    "for lr in [0.001, 0.01, 0.1]:\n",
    "    model_adam_ft = MyNet_1()\n",
    "    model_adam_ft = model_adam_ft.to(device)\n",
    "    criterion = nn.CrossEntropyLoss()\n",
    "    print(\"learning rate is {}\".format(lr))\n",
    "    optimizer_ft = optim.Adam(model_adam_ft.parameters(), lr=lr)\n",
    "    model_adam_ft = train_model(model_adam_ft, criterion, optimizer_ft, num_epochs=10)\n",
    "    test_model(model_adam_ft)\n",
    "    print(\"-------------------------------\")"
   ]
  },
  {
   "cell_type": "code",
   "execution_count": 86,
   "metadata": {},
   "outputs": [
    {
     "name": "stdout",
     "output_type": "stream",
     "text": [
      "learning rate is 0.001\n",
      "Epoch 0/9\n",
      "----------\n",
      "train Loss: 1.9627 Acc: 0.2310\n",
      "Epoch 1/9\n",
      "----------\n",
      "train Loss: 1.5734 Acc: 0.4004\n",
      "Epoch 2/9\n",
      "----------\n",
      "train Loss: 1.3268 Acc: 0.5119\n",
      "Epoch 3/9\n",
      "----------\n",
      "train Loss: 1.1503 Acc: 0.5931\n",
      "Epoch 4/9\n",
      "----------\n",
      "train Loss: 1.0095 Acc: 0.6504\n",
      "Epoch 5/9\n",
      "----------\n",
      "train Loss: 0.9176 Acc: 0.6868\n",
      "Epoch 6/9\n",
      "----------\n",
      "train Loss: 0.8430 Acc: 0.7154\n",
      "Epoch 7/9\n",
      "----------\n",
      "train Loss: 0.7721 Acc: 0.7406\n",
      "Epoch 8/9\n",
      "----------\n",
      "train Loss: 0.7237 Acc: 0.7581\n",
      "Epoch 9/9\n",
      "----------\n",
      "train Loss: 0.6636 Acc: 0.7767\n",
      "\n"
     ]
    },
    {
     "data": {
      "image/png": "[encoded data removed]",
      "text/plain": [
       "<Figure size 432x288 with 1 Axes>"
      ]
     },
     "metadata": {
      "needs_background": "light"
     },
     "output_type": "display_data"
    },
    {
     "name": "stdout",
     "output_type": "stream",
     "text": [
      "Training complete in 7m 40s\n",
      "test Acc: 0.7322\n",
      "Testing complete in 0m 3s\n",
      "------------------------------\n",
      "learning rate is 0.01\n",
      "Epoch 0/9\n",
      "----------\n",
      "train Loss: 11.9233 Acc: 0.1008\n",
      "Epoch 1/9\n",
      "----------\n",
      "train Loss: 2.3065 Acc: 0.1007\n",
      "Epoch 2/9\n",
      "----------\n",
      "train Loss: 2.3075 Acc: 0.1014\n",
      "Epoch 3/9\n",
      "----------\n",
      "train Loss: 2.3067 Acc: 0.0990\n",
      "Epoch 4/9\n",
      "----------\n",
      "train Loss: 2.3066 Acc: 0.0987\n",
      "Epoch 5/9\n",
      "----------\n",
      "train Loss: 2.3206 Acc: 0.1003\n",
      "Epoch 6/9\n",
      "----------\n",
      "train Loss: 2.3105 Acc: 0.0979\n",
      "Epoch 7/9\n",
      "----------\n",
      "train Loss: 2.3075 Acc: 0.0993\n",
      "Epoch 8/9\n",
      "----------\n",
      "train Loss: 2.3072 Acc: 0.1008\n",
      "Epoch 9/9\n",
      "----------\n",
      "train Loss: 2.3070 Acc: 0.0984\n",
      "\n"
     ]
    },
    {
     "data": {
      "image/png": "[encoded data removed]",
      "text/plain": [
       "<Figure size 432x288 with 1 Axes>"
      ]
     },
     "metadata": {
      "needs_background": "light"
     },
     "output_type": "display_data"
    },
    {
     "name": "stdout",
     "output_type": "stream",
     "text": [
      "Training complete in 7m 1s\n",
      "test Acc: 0.1000\n",
      "Testing complete in 0m 6s\n",
      "------------------------------\n",
      "learning rate is 0.1\n",
      "Epoch 0/9\n",
      "----------\n",
      "train Loss: 52573.0341 Acc: 0.0993\n",
      "Epoch 1/9\n",
      "----------\n",
      "train Loss: 2.7259 Acc: 0.1021\n",
      "Epoch 2/9\n",
      "----------\n",
      "train Loss: 2.3310 Acc: 0.1037\n",
      "Epoch 3/9\n",
      "----------\n",
      "train Loss: 153.3847 Acc: 0.1016\n",
      "Epoch 4/9\n",
      "----------\n",
      "train Loss: 2.9189 Acc: 0.0995\n",
      "Epoch 5/9\n",
      "----------\n",
      "train Loss: 2.3633 Acc: 0.1031\n",
      "Epoch 6/9\n",
      "----------\n",
      "train Loss: 2.3311 Acc: 0.1013\n",
      "Epoch 7/9\n",
      "----------\n",
      "train Loss: 2.3406 Acc: 0.0991\n",
      "Epoch 8/9\n",
      "----------\n",
      "train Loss: 2.3310 Acc: 0.1029\n",
      "Epoch 9/9\n",
      "----------\n",
      "train Loss: 2.3301 Acc: 0.0993\n",
      "\n"
     ]
    },
    {
     "data": {
      "image/png": "[encoded data removed]",
      "text/plain": [
       "<Figure size 432x288 with 1 Axes>"
      ]
     },
     "metadata": {
      "needs_background": "light"
     },
     "output_type": "display_data"
    },
    {
     "name": "stdout",
     "output_type": "stream",
     "text": [
      "Training complete in 6m 59s\n",
      "test Acc: 0.1000\n",
      "Testing complete in 0m 6s\n",
      "------------------------------\n"
     ]
    }
   ],
   "source": [
    "# Optimizer 3 : RMSprop\n",
    "for lr in [0.001, 0.01, 0.1]:\n",
    "    model_rms_ft = MyNet_1()\n",
    "    model_rms_ft = model_rms_ft.to(device)\n",
    "    criterion = nn.CrossEntropyLoss()\n",
    "    optimizer_ft =  optim.RMSprop(model_rms_ft.parameters(), lr=lr, momentum=0.9)\n",
    "    print(\"learning rate is {}\".format(lr))\n",
    "    model_rms_ft = train_model(model_rms_ft, criterion, optimizer_ft, num_epochs=10)\n",
    "    test_model(model_rms_ft)\n",
    "    print(\"-\"*30)"
   ]
  },
  {
   "cell_type": "markdown",
   "metadata": {},
   "source": [
    "### Display model predictions"
   ]
  },
  {
   "cell_type": "code",
   "execution_count": 101,
   "metadata": {},
   "outputs": [],
   "source": [
    "## Display model predictions\n",
    "## Generic function to display predictions for a few images\n",
    "\n",
    "def display_predictions(model, num_images=6):\n",
    "    was_training = model.training\n",
    "    model.eval()\n",
    "    images_so_far = 0\n",
    "    fig = plt.figure()\n",
    "\n",
    "    with torch.no_grad():\n",
    "        for i, (inputs, labels) in enumerate(dataloaders['test']):\n",
    "            inputs = inputs.to(device)\n",
    "            labels = labels.to(device)\n",
    "\n",
    "            outputs = model(inputs)\n",
    "            _, preds = torch.max(outputs, 1)\n",
    "\n",
    "            for j in range(inputs.size()[0]):\n",
    "                images_so_far += 1\n",
    "                ax = plt.subplot(num_images//2, 2, images_so_far)\n",
    "                ax.axis('off')\n",
    "                ax.set_title('predicted: {}'.format(class_names[preds[j]]))\n",
    "                imshow(inputs.cpu().data[j])\n",
    "\n",
    "                if images_so_far == num_images:\n",
    "                    model.train(mode=was_training)\n",
    "                    return\n",
    "        model.train(mode=was_training)"
   ]
  },
  {
   "cell_type": "code",
   "execution_count": 102,
   "metadata": {},
   "outputs": [
    {
     "data": {
      "image/png": "[encoded data removed]",
      "text/plain": [
       "<Figure size 432x288 with 1 Axes>"
      ]
     },
     "metadata": {
      "needs_background": "light"
     },
     "output_type": "display_data"
    },
    {
     "data": {
      "image/png": "[encoded data removed]",
      "text/plain": [
       "<Figure size 432x288 with 1 Axes>"
      ]
     },
     "metadata": {
      "needs_background": "light"
     },
     "output_type": "display_data"
    },
    {
     "data": {
      "image/png": "[encoded data removed]",
      "text/plain": [
       "<Figure size 432x288 with 1 Axes>"
      ]
     },
     "metadata": {
      "needs_background": "light"
     },
     "output_type": "display_data"
    },
    {
     "data": {
      "image/png": "[encoded data removed]",
      "text/plain": [
       "<Figure size 432x288 with 1 Axes>"
      ]
     },
     "metadata": {
      "needs_background": "light"
     },
     "output_type": "display_data"
    },
    {
     "data": {
      "image/png": "[encoded data removed]",
      "text/plain": [
       "<Figure size 432x288 with 1 Axes>"
      ]
     },
     "metadata": {
      "needs_background": "light"
     },
     "output_type": "display_data"
    },
    {
     "data": {
      "image/png": "[encoded data removed]",
      "text/plain": [
       "<Figure size 432x288 with 1 Axes>"
      ]
     },
     "metadata": {
      "needs_background": "light"
     },
     "output_type": "display_data"
    }
   ],
   "source": [
    "display_predictions(model_mynet_1_ft)"
   ]
  },
  {
   "cell_type": "markdown",
   "metadata": {
    "colab_type": "text",
    "id": "E-A_mLSoVO9O"
   },
   "source": [
    "## Task 6: Visualization (10 points)\n",
    "Visualize feature maps of the first and the last convolutional layer of your final network using **cifar_example.jpg** as input image. Show the visualization in the report.\n",
    "\n",
    "#### First layer activations\n",
    "<img src=\"https://i.imgur.com/kGB9AuP.png\" width=\"400\" align=\"left\">"
   ]
  },
  {
   "cell_type": "markdown",
   "metadata": {
    "colab_type": "text",
    "id": "TsbbsIGKVO9P"
   },
   "source": [
    "#### Last layer activations\n",
    "\n",
    "<img src=\"https://i.imgur.com/qelH05X.png\" width=\"400\" align=\"left\">"
   ]
  },
  {
   "cell_type": "markdown",
   "metadata": {
    "colab_type": "text",
    "id": "vmlGWrPwVO90"
   },
   "source": [
    "## Save the Feature Maps"
   ]
  },
  {
   "cell_type": "code",
   "execution_count": null,
   "metadata": {
    "colab": {},
    "colab_type": "code",
    "id": "IhQxWX8RVO91"
   },
   "outputs": [],
   "source": [
    "# TODO Task 6: Visualization"
   ]
  },
  {
   "cell_type": "code",
   "execution_count": 88,
   "metadata": {
    "colab": {},
    "colab_type": "code",
    "id": "gNX3eVEyVO94"
   },
   "outputs": [],
   "source": [
    "def transfer_single_img_to_tensor(img_path):\n",
    "    im = Image.open(img_path)\n",
    "    img = np.asarray(im)/255\n",
    "    mean = np.array([0.5, 0.5, 0.5])\n",
    "    std = np.array([0.5, 0.5, 0.5])\n",
    "    \n",
    "    inp = (img - mean) / std\n",
    "    inp = np.asarray(inp, dtype=np.float32)\n",
    "    inp = inp.transpose((2, 0, 1))\n",
    "    inp = np.expand_dims(inp, axis=0)\n",
    "    inp = torch.from_numpy(inp, )\n",
    "    inputs = inp.to(device)\n",
    "    return inputs"
   ]
  },
  {
   "cell_type": "code",
   "execution_count": 133,
   "metadata": {
    "colab": {},
    "colab_type": "code",
    "id": "L0AqVUu9VO97"
   },
   "outputs": [],
   "source": [
    "inputs = transfer_single_img_to_tensor('example_imgs/cifar_example.jpg')\n",
    "model_mynet_1_ft.eval()\n",
    "with torch.no_grad():\n",
    "    model_mynet_1_ft(inputs)"
   ]
  },
  {
   "cell_type": "code",
   "execution_count": 90,
   "metadata": {},
   "outputs": [],
   "source": [
    "class MyNet_1(nn.Module):\n",
    "    def __init__(self):\n",
    "        super(MyNet_1, self).__init__()\n",
    "        self.conv1 = nn.Conv2d(3, 64, kernel_size=7, stride=1, padding=2)\n",
    "        self.bn = nn.BatchNorm2d(64)\n",
    "        self.relu = nn.ReLU()\n",
    "        self.map = nn.MaxPool2d(kernel_size=3, stride=2)\n",
    "        \n",
    "        self.conv2 = nn.Sequential(            \n",
    "            nn.Conv2d(64, 192, kernel_size=5, padding=2), nn.BatchNorm2d(192), nn.ReLU(),\n",
    "            nn.MaxPool2d(kernel_size=3, stride=2),\n",
    "            nn.Conv2d(192, 384, kernel_size=3, padding=1), nn.BatchNorm2d(384), nn.ReLU(),\n",
    "            nn.Conv2d(384, 256, kernel_size=3, padding=1), nn.BatchNorm2d(256), nn.ReLU(),\n",
    "            # nn.Conv2d(256, 256, kernel_size=3, padding=1), nn.BatchNorm2d(256), nn.ReLU(),\n",
    "            nn.MaxPool2d(kernel_size=3, stride=2),\n",
    "        )\n",
    "        self.fcs = nn.Sequential(\n",
    "            nn.Dropout(), nn.Linear(256 * 2 * 2, 1024), nn.ReLU(),\n",
    "            nn.Dropout(), nn.Linear(1024, 64), nn.ReLU(),\n",
    "            nn.Linear(64, 10)\n",
    "        )\n",
    "            \n",
    "    def forward(self, x):\n",
    "        x = self.map(self.relu(self.bn(self.conv1(x))))\n",
    "        self.featuremap1 = x       \n",
    "        x = self.conv2(x)\n",
    "        self.featuremap2 = x\n",
    "        b = x.shape[0]\n",
    "        x = self.fcs(x.view(b,-1))\n",
    "        return x\n",
    "\n",
    "    "
   ]
  },
  {
   "cell_type": "code",
   "execution_count": 92,
   "metadata": {},
   "outputs": [
    {
     "name": "stdout",
     "output_type": "stream",
     "text": [
      "Epoch 0/9\n",
      "----------\n",
      "train Loss: 1.6306 Acc: 0.3900\n",
      "Epoch 1/9\n",
      "----------\n",
      "train Loss: 1.1299 Acc: 0.5950\n",
      "Epoch 2/9\n",
      "----------\n",
      "train Loss: 0.9382 Acc: 0.6692\n",
      "Epoch 3/9\n",
      "----------\n",
      "train Loss: 0.7973 Acc: 0.7178\n",
      "Epoch 4/9\n",
      "----------\n",
      "train Loss: 0.7099 Acc: 0.7516\n",
      "Epoch 5/9\n",
      "----------\n",
      "train Loss: 0.6283 Acc: 0.7806\n",
      "Epoch 6/9\n",
      "----------\n",
      "train Loss: 0.5652 Acc: 0.8043\n",
      "Epoch 7/9\n",
      "----------\n",
      "train Loss: 0.5111 Acc: 0.8211\n",
      "Epoch 8/9\n",
      "----------\n",
      "train Loss: 0.4702 Acc: 0.8358\n",
      "Epoch 9/9\n",
      "----------\n",
      "train Loss: 0.4170 Acc: 0.8549\n",
      "\n"
     ]
    },
    {
     "data": {
      "image/png": "[encoded data removed]",
      "text/plain": [
       "<Figure size 432x288 with 1 Axes>"
      ]
     },
     "metadata": {
      "needs_background": "light"
     },
     "output_type": "display_data"
    },
    {
     "name": "stdout",
     "output_type": "stream",
     "text": [
      "Training complete in 8m 15s\n"
     ]
    }
   ],
   "source": [
    "model_mynet_1_ft = MyNet_1()\n",
    "model_mynet_1_ft = model_mynet_1_ft.to(device)\n",
    "criterion = nn.CrossEntropyLoss()\n",
    "\n",
    "optimizer_ft = optim.SGD(model_mynet_1_ft.parameters(), lr=0.01, momentum=0.9)\n",
    "model_mynet_1_ft = train_model(model_mynet_1_ft, criterion, optimizer_ft, num_epochs=10)"
   ]
  },
  {
   "cell_type": "code",
   "execution_count": 134,
   "metadata": {
    "colab": {},
    "colab_type": "code",
    "id": "I4Y-bqt2VO99"
   },
   "outputs": [],
   "source": [
    "# Model_ft.featuremap1 and model_ft.featuremap2 should be the first and the last feature maps.\n",
    "# Add model_ft.featuremap1 and model_ft.featuremap2 at suitable places in your network\n",
    "\n",
    "feature_ouput1 = model_mynet_1_ft.featuremap1.transpose(1,0).cpu()\n",
    "feature_ouput2 = model_mynet_1_ft.featuremap2.transpose(1,0).cpu()"
   ]
  },
  {
   "cell_type": "code",
   "execution_count": 117,
   "metadata": {
    "colab": {},
    "colab_type": "code",
    "id": "m4Qy8s4BVO9_"
   },
   "outputs": [],
   "source": [
    "def feature_imshow(inp, title=None):\n",
    "    \"\"\"Imshow for Tensor.\"\"\"\n",
    "    inp = inp.detach().numpy().transpose((1, 2, 0))\n",
    "    mean = np.array([0.5, 0.5, 0.5])\n",
    "    std = np.array([0.5, 0.5, 0.5])\n",
    "    inp = std * inp + mean\n",
    "    inp = np.clip(inp, 0, 1)\n",
    "    plt.imshow(inp)\n",
    "    if title is not None:\n",
    "        plt.title(title)\n",
    "    plt.pause(0.001)  # pause a bit so that plots are updated"
   ]
  },
  {
   "cell_type": "code",
   "execution_count": 135,
   "metadata": {},
   "outputs": [
    {
     "name": "stdout",
     "output_type": "stream",
     "text": [
      "torch.Size([64, 1, 14, 14])\n"
     ]
    }
   ],
   "source": [
    "print(feature_ouput1.shape)"
   ]
  },
  {
   "cell_type": "code",
   "execution_count": 136,
   "metadata": {
    "colab": {},
    "colab_type": "code",
    "id": "2ofvGE8-VO-B"
   },
   "outputs": [
    {
     "data": {
      "image/png": "[encoded data removed]",
      "text/plain": [
       "<Figure size 432x288 with 1 Axes>"
      ]
     },
     "metadata": {
      "needs_background": "light"
     },
     "output_type": "display_data"
    }
   ],
   "source": [
    "out = torchvision.utils.make_grid(feature_ouput1)\n",
    "feature_imshow(out)"
   ]
  },
  {
   "cell_type": "code",
   "execution_count": 138,
   "metadata": {
    "colab": {},
    "colab_type": "code",
    "id": "0Mo1xtSzVO-E"
   },
   "outputs": [
    {
     "data": {
      "image/png": "[encoded data removed]",
      "text/plain": [
       "<Figure size 432x288 with 1 Axes>"
      ]
     },
     "metadata": {
      "needs_background": "light"
     },
     "output_type": "display_data"
    }
   ],
   "source": [
    "out = torchvision.utils.make_grid(feature_ouput2)\n",
    "feature_imshow(out)"
   ]
  },
  {
   "cell_type": "code",
   "execution_count": null,
   "metadata": {},
   "outputs": [],
   "source": []
  }
 ],
 "metadata": {
  "colab": {
   "collapsed_sections": [],
   "name": "Project_Image_Classification.ipynb",
   "provenance": [],
   "toc_visible": true,
   "version": "0.3.2"
  },
  "kernelspec": {
   "display_name": "Python 3",
   "language": "python",
   "name": "python3"
  },
  "language_info": {
   "codemirror_mode": {
    "name": "ipython",
    "version": 3
   },
   "file_extension": ".py",
   "mimetype": "text/x-python",
   "name": "python",
   "nbconvert_exporter": "python",
   "pygments_lexer": "ipython3",
   "version": "3.7.4"
  }
 },
 "nbformat": 4,
 "nbformat_minor": 4
}
